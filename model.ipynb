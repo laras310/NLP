{
 "cells": [
  {
   "cell_type": "markdown",
   "metadata": {},
   "source": [
    "# install libraries"
   ]
  },
  {
   "cell_type": "code",
   "execution_count": 12,
   "metadata": {},
   "outputs": [
    {
     "name": "stdout",
     "output_type": "stream",
     "text": [
      "Collecting pandas\n",
      "  Downloading pandas-1.5.2-cp310-cp310-win_amd64.whl (10.4 MB)\n",
      "     --------------------------------------- 10.4/10.4 MB 67.2 kB/s eta 0:00:00\n",
      "Collecting numpy>=1.21.0\n",
      "  Downloading numpy-1.23.5-cp310-cp310-win_amd64.whl (14.6 MB)\n",
      "     -------------------------------------- 14.6/14.6 MB 142.2 kB/s eta 0:00:00\n",
      "Requirement already satisfied: python-dateutil>=2.8.1 in c:\\users\\acer\\appdata\\local\\packages\\pythonsoftwarefoundation.python.3.10_qbz5n2kfra8p0\\localcache\\local-packages\\python310\\site-packages (from pandas) (2.8.2)\n",
      "Collecting pytz>=2020.1\n",
      "  Using cached pytz-2022.6-py2.py3-none-any.whl (498 kB)\n",
      "Requirement already satisfied: six>=1.5 in c:\\users\\acer\\appdata\\local\\packages\\pythonsoftwarefoundation.python.3.10_qbz5n2kfra8p0\\localcache\\local-packages\\python310\\site-packages (from python-dateutil>=2.8.1->pandas) (1.16.0)\n",
      "Installing collected packages: pytz, numpy, pandas\n",
      "Successfully installed numpy-1.23.5 pandas-1.5.2 pytz-2022.6\n",
      "Note: you may need to restart the kernel to use updated packages.\n"
     ]
    },
    {
     "name": "stderr",
     "output_type": "stream",
     "text": [
      "  WARNING: The script f2py.exe is installed in 'C:\\Users\\ACER\\AppData\\Local\\Packages\\PythonSoftwareFoundation.Python.3.10_qbz5n2kfra8p0\\LocalCache\\local-packages\\Python310\\Scripts' which is not on PATH.\n",
      "  Consider adding this directory to PATH or, if you prefer to suppress this warning, use --no-warn-script-location.\n",
      "\n",
      "[notice] A new release of pip available: 22.2.2 -> 22.3.1\n",
      "[notice] To update, run: C:\\Users\\ACER\\AppData\\Local\\Microsoft\\WindowsApps\\PythonSoftwareFoundation.Python.3.10_qbz5n2kfra8p0\\python.exe -m pip install --upgrade pip\n"
     ]
    }
   ],
   "source": [
    "%pip install pandas"
   ]
  },
  {
   "cell_type": "code",
   "execution_count": 95,
   "metadata": {},
   "outputs": [
    {
     "name": "stdout",
     "output_type": "stream",
     "text": [
      "Collecting matplotlib\n",
      "  Downloading matplotlib-3.6.2-cp310-cp310-win_amd64.whl (7.2 MB)\n",
      "     ---------------------------------------- 7.2/7.2 MB 572.9 kB/s eta 0:00:00\n",
      "Requirement already satisfied: python-dateutil>=2.7 in c:\\users\\acer\\appdata\\local\\packages\\pythonsoftwarefoundation.python.3.10_qbz5n2kfra8p0\\localcache\\local-packages\\python310\\site-packages (from matplotlib) (2.8.2)\n",
      "Collecting fonttools>=4.22.0\n",
      "  Downloading fonttools-4.38.0-py3-none-any.whl (965 kB)\n",
      "     ------------------------------------ 965.4/965.4 kB 391.8 kB/s eta 0:00:00\n",
      "Requirement already satisfied: packaging>=20.0 in c:\\users\\acer\\appdata\\local\\packages\\pythonsoftwarefoundation.python.3.10_qbz5n2kfra8p0\\localcache\\local-packages\\python310\\site-packages (from matplotlib) (21.3)\n",
      "Collecting pillow>=6.2.0\n",
      "  Downloading Pillow-9.3.0-cp310-cp310-win_amd64.whl (2.5 MB)\n",
      "     ---------------------------------------- 2.5/2.5 MB 408.1 kB/s eta 0:00:00\n",
      "Collecting contourpy>=1.0.1\n",
      "  Downloading contourpy-1.0.6-cp310-cp310-win_amd64.whl (163 kB)\n",
      "     ------------------------------------ 163.6/163.6 kB 223.2 kB/s eta 0:00:00\n",
      "Requirement already satisfied: numpy>=1.19 in c:\\users\\acer\\appdata\\local\\packages\\pythonsoftwarefoundation.python.3.10_qbz5n2kfra8p0\\localcache\\local-packages\\python310\\site-packages (from matplotlib) (1.23.5)\n",
      "Collecting cycler>=0.10\n",
      "  Using cached cycler-0.11.0-py3-none-any.whl (6.4 kB)\n",
      "Requirement already satisfied: pyparsing>=2.2.1 in c:\\users\\acer\\appdata\\local\\packages\\pythonsoftwarefoundation.python.3.10_qbz5n2kfra8p0\\localcache\\local-packages\\python310\\site-packages (from matplotlib) (3.0.9)\n",
      "Collecting kiwisolver>=1.0.1\n",
      "  Downloading kiwisolver-1.4.4-cp310-cp310-win_amd64.whl (55 kB)\n",
      "     --------------------------------------- 55.3/55.3 kB 92.8 kB/s eta 0:00:00\n",
      "Requirement already satisfied: six>=1.5 in c:\\users\\acer\\appdata\\local\\packages\\pythonsoftwarefoundation.python.3.10_qbz5n2kfra8p0\\localcache\\local-packages\\python310\\site-packages (from python-dateutil>=2.7->matplotlib) (1.16.0)\n",
      "Installing collected packages: pillow, kiwisolver, fonttools, cycler, contourpy, matplotlib\n",
      "Successfully installed contourpy-1.0.6 cycler-0.11.0 fonttools-4.38.0 kiwisolver-1.4.4 matplotlib-3.6.2 pillow-9.3.0\n",
      "Note: you may need to restart the kernel to use updated packages.\n"
     ]
    },
    {
     "name": "stderr",
     "output_type": "stream",
     "text": [
      "  WARNING: The scripts fonttools.exe, pyftmerge.exe, pyftsubset.exe and ttx.exe are installed in 'C:\\Users\\ACER\\AppData\\Local\\Packages\\PythonSoftwareFoundation.Python.3.10_qbz5n2kfra8p0\\LocalCache\\local-packages\\Python310\\Scripts' which is not on PATH.\n",
      "  Consider adding this directory to PATH or, if you prefer to suppress this warning, use --no-warn-script-location.\n",
      "\n",
      "[notice] A new release of pip available: 22.2.2 -> 22.3.1\n",
      "[notice] To update, run: C:\\Users\\ACER\\AppData\\Local\\Microsoft\\WindowsApps\\PythonSoftwareFoundation.Python.3.10_qbz5n2kfra8p0\\python.exe -m pip install --upgrade pip\n"
     ]
    }
   ],
   "source": [
    "%pip install matplotlib"
   ]
  },
  {
   "cell_type": "code",
   "execution_count": 97,
   "metadata": {},
   "outputs": [
    {
     "name": "stdout",
     "output_type": "stream",
     "text": [
      "Collecting seabornNote: you may need to restart the kernel to use updated packages.\n"
     ]
    },
    {
     "name": "stderr",
     "output_type": "stream",
     "text": [
      "\n",
      "[notice] A new release of pip available: 22.2.2 -> 22.3.1\n",
      "[notice] To update, run: C:\\Users\\ACER\\AppData\\Local\\Microsoft\\WindowsApps\\PythonSoftwareFoundation.Python.3.10_qbz5n2kfra8p0\\python.exe -m pip install --upgrade pip\n"
     ]
    },
    {
     "name": "stdout",
     "output_type": "stream",
     "text": [
      "\n",
      "  Downloading seaborn-0.12.1-py3-none-any.whl (288 kB)\n",
      "     ------------------------------------ 288.2/288.2 kB 493.8 kB/s eta 0:00:00\n",
      "Requirement already satisfied: matplotlib!=3.6.1,>=3.1 in c:\\users\\acer\\appdata\\local\\packages\\pythonsoftwarefoundation.python.3.10_qbz5n2kfra8p0\\localcache\\local-packages\\python310\\site-packages (from seaborn) (3.6.2)\n",
      "Requirement already satisfied: numpy>=1.17 in c:\\users\\acer\\appdata\\local\\packages\\pythonsoftwarefoundation.python.3.10_qbz5n2kfra8p0\\localcache\\local-packages\\python310\\site-packages (from seaborn) (1.23.5)\n",
      "Requirement already satisfied: pandas>=0.25 in c:\\users\\acer\\appdata\\local\\packages\\pythonsoftwarefoundation.python.3.10_qbz5n2kfra8p0\\localcache\\local-packages\\python310\\site-packages (from seaborn) (1.5.2)\n",
      "Requirement already satisfied: fonttools>=4.22.0 in c:\\users\\acer\\appdata\\local\\packages\\pythonsoftwarefoundation.python.3.10_qbz5n2kfra8p0\\localcache\\local-packages\\python310\\site-packages (from matplotlib!=3.6.1,>=3.1->seaborn) (4.38.0)\n",
      "Requirement already satisfied: kiwisolver>=1.0.1 in c:\\users\\acer\\appdata\\local\\packages\\pythonsoftwarefoundation.python.3.10_qbz5n2kfra8p0\\localcache\\local-packages\\python310\\site-packages (from matplotlib!=3.6.1,>=3.1->seaborn) (1.4.4)\n",
      "Requirement already satisfied: pillow>=6.2.0 in c:\\users\\acer\\appdata\\local\\packages\\pythonsoftwarefoundation.python.3.10_qbz5n2kfra8p0\\localcache\\local-packages\\python310\\site-packages (from matplotlib!=3.6.1,>=3.1->seaborn) (9.3.0)\n",
      "Requirement already satisfied: cycler>=0.10 in c:\\users\\acer\\appdata\\local\\packages\\pythonsoftwarefoundation.python.3.10_qbz5n2kfra8p0\\localcache\\local-packages\\python310\\site-packages (from matplotlib!=3.6.1,>=3.1->seaborn) (0.11.0)\n",
      "Requirement already satisfied: contourpy>=1.0.1 in c:\\users\\acer\\appdata\\local\\packages\\pythonsoftwarefoundation.python.3.10_qbz5n2kfra8p0\\localcache\\local-packages\\python310\\site-packages (from matplotlib!=3.6.1,>=3.1->seaborn) (1.0.6)\n",
      "Requirement already satisfied: packaging>=20.0 in c:\\users\\acer\\appdata\\local\\packages\\pythonsoftwarefoundation.python.3.10_qbz5n2kfra8p0\\localcache\\local-packages\\python310\\site-packages (from matplotlib!=3.6.1,>=3.1->seaborn) (21.3)\n",
      "Requirement already satisfied: python-dateutil>=2.7 in c:\\users\\acer\\appdata\\local\\packages\\pythonsoftwarefoundation.python.3.10_qbz5n2kfra8p0\\localcache\\local-packages\\python310\\site-packages (from matplotlib!=3.6.1,>=3.1->seaborn) (2.8.2)\n",
      "Requirement already satisfied: pyparsing>=2.2.1 in c:\\users\\acer\\appdata\\local\\packages\\pythonsoftwarefoundation.python.3.10_qbz5n2kfra8p0\\localcache\\local-packages\\python310\\site-packages (from matplotlib!=3.6.1,>=3.1->seaborn) (3.0.9)\n",
      "Requirement already satisfied: pytz>=2020.1 in c:\\users\\acer\\appdata\\local\\packages\\pythonsoftwarefoundation.python.3.10_qbz5n2kfra8p0\\localcache\\local-packages\\python310\\site-packages (from pandas>=0.25->seaborn) (2022.6)\n",
      "Requirement already satisfied: six>=1.5 in c:\\users\\acer\\appdata\\local\\packages\\pythonsoftwarefoundation.python.3.10_qbz5n2kfra8p0\\localcache\\local-packages\\python310\\site-packages (from python-dateutil>=2.7->matplotlib!=3.6.1,>=3.1->seaborn) (1.16.0)\n",
      "Installing collected packages: seaborn\n",
      "Successfully installed seaborn-0.12.1\n"
     ]
    }
   ],
   "source": [
    "%pip install seaborn"
   ]
  },
  {
   "cell_type": "code",
   "execution_count": 99,
   "metadata": {},
   "outputs": [
    {
     "name": "stdout",
     "output_type": "stream",
     "text": [
      "Collecting nltk\n",
      "  Using cached nltk-3.7-py3-none-any.whl (1.5 MB)\n",
      "Collecting regex>=2021.8.3\n",
      "  Downloading regex-2022.10.31-cp310-cp310-win_amd64.whl (267 kB)\n",
      "     ------------------------------------ 267.7/267.7 kB 422.8 kB/s eta 0:00:00\n",
      "Collecting click\n",
      "  Using cached click-8.1.3-py3-none-any.whl (96 kB)\n",
      "Collecting joblib\n",
      "  Using cached joblib-1.2.0-py3-none-any.whl (297 kB)\n",
      "Collecting tqdm\n",
      "  Using cached tqdm-4.64.1-py2.py3-none-any.whl (78 kB)\n",
      "Requirement already satisfied: colorama in c:\\users\\acer\\appdata\\local\\packages\\pythonsoftwarefoundation.python.3.10_qbz5n2kfra8p0\\localcache\\local-packages\\python310\\site-packages (from click->nltk) (0.4.6)\n",
      "Installing collected packages: tqdm, regex, joblib, click, nltk\n",
      "Successfully installed click-8.1.3 joblib-1.2.0 nltk-3.7 regex-2022.10.31 tqdm-4.64.1\n",
      "Note: you may need to restart the kernel to use updated packages.\n"
     ]
    },
    {
     "name": "stderr",
     "output_type": "stream",
     "text": [
      "  WARNING: The script tqdm.exe is installed in 'C:\\Users\\ACER\\AppData\\Local\\Packages\\PythonSoftwareFoundation.Python.3.10_qbz5n2kfra8p0\\LocalCache\\local-packages\\Python310\\Scripts' which is not on PATH.\n",
      "  Consider adding this directory to PATH or, if you prefer to suppress this warning, use --no-warn-script-location.\n",
      "  WARNING: The script nltk.exe is installed in 'C:\\Users\\ACER\\AppData\\Local\\Packages\\PythonSoftwareFoundation.Python.3.10_qbz5n2kfra8p0\\LocalCache\\local-packages\\Python310\\Scripts' which is not on PATH.\n",
      "  Consider adding this directory to PATH or, if you prefer to suppress this warning, use --no-warn-script-location.\n",
      "\n",
      "[notice] A new release of pip available: 22.2.2 -> 22.3.1\n",
      "[notice] To update, run: C:\\Users\\ACER\\AppData\\Local\\Microsoft\\WindowsApps\\PythonSoftwareFoundation.Python.3.10_qbz5n2kfra8p0\\python.exe -m pip install --upgrade pip\n"
     ]
    }
   ],
   "source": [
    "%pip install nltk"
   ]
  },
  {
   "cell_type": "code",
   "execution_count": 4,
   "metadata": {},
   "outputs": [
    {
     "name": "stdout",
     "output_type": "stream",
     "text": [
      "Collecting scikit-learn\n",
      "  Downloading scikit_learn-1.1.3-cp310-cp310-win_amd64.whl (7.5 MB)\n",
      "     ---------------------------------------- 7.5/7.5 MB 547.0 kB/s eta 0:00:00\n",
      "Collecting scipy>=1.3.2\n",
      "  Downloading scipy-1.9.3-cp310-cp310-win_amd64.whl (40.1 MB)\n",
      "     -------------------------------------- 40.1/40.1 MB 244.5 kB/s eta 0:00:00\n",
      "Collecting threadpoolctl>=2.0.0\n",
      "  Using cached threadpoolctl-3.1.0-py3-none-any.whl (14 kB)\n",
      "Requirement already satisfied: joblib>=1.0.0 in c:\\users\\acer\\appdata\\local\\packages\\pythonsoftwarefoundation.python.3.10_qbz5n2kfra8p0\\localcache\\local-packages\\python310\\site-packages (from scikit-learn) (1.2.0)\n",
      "Requirement already satisfied: numpy>=1.17.3 in c:\\users\\acer\\appdata\\local\\packages\\pythonsoftwarefoundation.python.3.10_qbz5n2kfra8p0\\localcache\\local-packages\\python310\\site-packages (from scikit-learn) (1.23.5)\n",
      "Installing collected packages: threadpoolctl, scipy, scikit-learn\n",
      "Successfully installed scikit-learn-1.1.3 scipy-1.9.3 threadpoolctl-3.1.0\n",
      "Note: you may need to restart the kernel to use updated packages.\n"
     ]
    },
    {
     "name": "stderr",
     "output_type": "stream",
     "text": [
      "\n",
      "[notice] A new release of pip available: 22.2.2 -> 22.3.1\n",
      "[notice] To update, run: C:\\Users\\ACER\\AppData\\Local\\Microsoft\\WindowsApps\\PythonSoftwareFoundation.Python.3.10_qbz5n2kfra8p0\\python.exe -m pip install --upgrade pip\n"
     ]
    }
   ],
   "source": [
    "%pip install scikit-learn"
   ]
  },
  {
   "cell_type": "code",
   "execution_count": 6,
   "metadata": {},
   "outputs": [
    {
     "name": "stdout",
     "output_type": "stream",
     "text": [
      "Collecting spacy\n",
      "  Downloading spacy-3.4.3-cp310-cp310-win_amd64.whl (11.9 MB)\n",
      "     -------------------------------------- 11.9/11.9 MB 281.9 kB/s eta 0:00:00\n",
      "Collecting cymem<2.1.0,>=2.0.2\n",
      "  Downloading cymem-2.0.7-cp310-cp310-win_amd64.whl (29 kB)\n",
      "Requirement already satisfied: tqdm<5.0.0,>=4.38.0 in c:\\users\\acer\\appdata\\local\\packages\\pythonsoftwarefoundation.python.3.10_qbz5n2kfra8p0\\localcache\\local-packages\\python310\\site-packages (from spacy) (4.64.1)\n",
      "Collecting langcodes<4.0.0,>=3.2.0\n",
      "  Downloading langcodes-3.3.0-py3-none-any.whl (181 kB)\n",
      "     ------------------------------------ 181.6/181.6 kB 154.6 kB/s eta 0:00:00\n",
      "Requirement already satisfied: numpy>=1.15.0 in c:\\users\\acer\\appdata\\local\\packages\\pythonsoftwarefoundation.python.3.10_qbz5n2kfra8p0\\localcache\\local-packages\\python310\\site-packages (from spacy) (1.23.5)\n",
      "Collecting pathy>=0.3.5\n",
      "  Downloading pathy-0.10.0-py3-none-any.whl (48 kB)\n",
      "     -------------------------------------- 48.9/48.9 kB 309.0 kB/s eta 0:00:00\n",
      "Collecting murmurhash<1.1.0,>=0.28.0\n",
      "  Downloading murmurhash-1.0.9-cp310-cp310-win_amd64.whl (18 kB)\n",
      "Collecting srsly<3.0.0,>=2.4.3\n",
      "  Downloading srsly-2.4.5-cp310-cp310-win_amd64.whl (479 kB)\n",
      "     ------------------------------------ 479.4/479.4 kB 555.9 kB/s eta 0:00:00\n",
      "Collecting spacy-loggers<2.0.0,>=1.0.0\n",
      "  Downloading spacy_loggers-1.0.3-py3-none-any.whl (9.3 kB)\n",
      "Collecting pydantic!=1.8,!=1.8.1,<1.11.0,>=1.7.4\n",
      "  Downloading pydantic-1.10.2-cp310-cp310-win_amd64.whl (2.1 MB)\n",
      "     ---------------------------------------- 2.1/2.1 MB 328.2 kB/s eta 0:00:00\n",
      "Collecting jinja2\n",
      "  Using cached Jinja2-3.1.2-py3-none-any.whl (133 kB)\n",
      "Collecting thinc<8.2.0,>=8.1.0\n",
      "  Downloading thinc-8.1.5-cp310-cp310-win_amd64.whl (1.3 MB)\n",
      "     ---------------------------------------- 1.3/1.3 MB 348.8 kB/s eta 0:00:00\n",
      "Collecting typer<0.8.0,>=0.3.0\n",
      "  Downloading typer-0.7.0-py3-none-any.whl (38 kB)\n",
      "Requirement already satisfied: setuptools in c:\\program files\\windowsapps\\pythonsoftwarefoundation.python.3.10_3.10.2288.0_x64__qbz5n2kfra8p0\\lib\\site-packages (from spacy) (63.2.0)\n",
      "Collecting preshed<3.1.0,>=3.0.2\n",
      "  Downloading preshed-3.0.8-cp310-cp310-win_amd64.whl (94 kB)\n",
      "     -------------------------------------- 94.7/94.7 kB 159.1 kB/s eta 0:00:00\n",
      "Collecting catalogue<2.1.0,>=2.0.6\n",
      "  Downloading catalogue-2.0.8-py3-none-any.whl (17 kB)\n",
      "Collecting spacy-legacy<3.1.0,>=3.0.10\n",
      "  Downloading spacy_legacy-3.0.10-py2.py3-none-any.whl (21 kB)\n",
      "Collecting requests<3.0.0,>=2.13.0\n",
      "  Using cached requests-2.28.1-py3-none-any.whl (62 kB)\n",
      "Collecting wasabi<1.1.0,>=0.9.1\n",
      "  Downloading wasabi-0.10.1-py3-none-any.whl (26 kB)\n",
      "Requirement already satisfied: packaging>=20.0 in c:\\users\\acer\\appdata\\local\\packages\\pythonsoftwarefoundation.python.3.10_qbz5n2kfra8p0\\localcache\\local-packages\\python310\\site-packages (from spacy) (21.3)\n",
      "Requirement already satisfied: pyparsing!=3.0.5,>=2.0.2 in c:\\users\\acer\\appdata\\local\\packages\\pythonsoftwarefoundation.python.3.10_qbz5n2kfra8p0\\localcache\\local-packages\\python310\\site-packages (from packaging>=20.0->spacy) (3.0.9)\n",
      "Collecting smart-open<6.0.0,>=5.2.1\n",
      "  Downloading smart_open-5.2.1-py3-none-any.whl (58 kB)\n",
      "     -------------------------------------- 58.6/58.6 kB 163.0 kB/s eta 0:00:00\n",
      "Collecting typing-extensions>=4.1.0\n",
      "  Using cached typing_extensions-4.4.0-py3-none-any.whl (26 kB)\n",
      "Collecting certifi>=2017.4.17\n",
      "  Using cached certifi-2022.9.24-py3-none-any.whl (161 kB)\n",
      "Collecting urllib3<1.27,>=1.21.1\n",
      "  Using cached urllib3-1.26.13-py2.py3-none-any.whl (140 kB)\n",
      "Collecting charset-normalizer<3,>=2\n",
      "  Using cached charset_normalizer-2.1.1-py3-none-any.whl (39 kB)\n",
      "Collecting idna<4,>=2.5\n",
      "  Using cached idna-3.4-py3-none-any.whl (61 kB)\n",
      "Collecting confection<1.0.0,>=0.0.1\n",
      "  Downloading confection-0.0.3-py3-none-any.whl (32 kB)\n",
      "Collecting blis<0.8.0,>=0.7.8\n",
      "  Downloading blis-0.7.9-cp310-cp310-win_amd64.whl (7.0 MB)\n",
      "     ---------------------------------------- 7.0/7.0 MB 158.6 kB/s eta 0:00:00\n",
      "Requirement already satisfied: colorama in c:\\users\\acer\\appdata\\local\\packages\\pythonsoftwarefoundation.python.3.10_qbz5n2kfra8p0\\localcache\\local-packages\\python310\\site-packages (from tqdm<5.0.0,>=4.38.0->spacy) (0.4.6)\n",
      "Requirement already satisfied: click<9.0.0,>=7.1.1 in c:\\users\\acer\\appdata\\local\\packages\\pythonsoftwarefoundation.python.3.10_qbz5n2kfra8p0\\localcache\\local-packages\\python310\\site-packages (from typer<0.8.0,>=0.3.0->spacy) (8.1.3)\n",
      "Collecting MarkupSafe>=2.0\n",
      "  Downloading MarkupSafe-2.1.1-cp310-cp310-win_amd64.whl (17 kB)\n",
      "Installing collected packages: wasabi, cymem, urllib3, typing-extensions, spacy-loggers, spacy-legacy, smart-open, murmurhash, MarkupSafe, langcodes, idna, charset-normalizer, certifi, catalogue, blis, typer, srsly, requests, pydantic, preshed, jinja2, pathy, confection, thinc, spacy\n",
      "Successfully installed MarkupSafe-2.1.1 blis-0.7.9 catalogue-2.0.8 certifi-2022.9.24 charset-normalizer-2.1.1 confection-0.0.3 cymem-2.0.7 idna-3.4 jinja2-3.1.2 langcodes-3.3.0 murmurhash-1.0.9 pathy-0.10.0 preshed-3.0.8 pydantic-1.10.2 requests-2.28.1 smart-open-5.2.1 spacy-3.4.3 spacy-legacy-3.0.10 spacy-loggers-1.0.3 srsly-2.4.5 thinc-8.1.5 typer-0.7.0 typing-extensions-4.4.0 urllib3-1.26.13 wasabi-0.10.1\n",
      "Note: you may need to restart the kernel to use updated packages.\n"
     ]
    },
    {
     "name": "stderr",
     "output_type": "stream",
     "text": [
      "  WARNING: The script normalizer.exe is installed in 'C:\\Users\\ACER\\AppData\\Local\\Packages\\PythonSoftwareFoundation.Python.3.10_qbz5n2kfra8p0\\LocalCache\\local-packages\\Python310\\Scripts' which is not on PATH.\n",
      "  Consider adding this directory to PATH or, if you prefer to suppress this warning, use --no-warn-script-location.\n",
      "  WARNING: The script pathy.exe is installed in 'C:\\Users\\ACER\\AppData\\Local\\Packages\\PythonSoftwareFoundation.Python.3.10_qbz5n2kfra8p0\\LocalCache\\local-packages\\Python310\\Scripts' which is not on PATH.\n",
      "  Consider adding this directory to PATH or, if you prefer to suppress this warning, use --no-warn-script-location.\n",
      "  WARNING: The script spacy.exe is installed in 'C:\\Users\\ACER\\AppData\\Local\\Packages\\PythonSoftwareFoundation.Python.3.10_qbz5n2kfra8p0\\LocalCache\\local-packages\\Python310\\Scripts' which is not on PATH.\n",
      "  Consider adding this directory to PATH or, if you prefer to suppress this warning, use --no-warn-script-location.\n",
      "\n",
      "[notice] A new release of pip available: 22.2.2 -> 22.3.1\n",
      "[notice] To update, run: C:\\Users\\ACER\\AppData\\Local\\Microsoft\\WindowsApps\\PythonSoftwareFoundation.Python.3.10_qbz5n2kfra8p0\\python.exe -m pip install --upgrade pip\n"
     ]
    },
    {
     "name": "stdout",
     "output_type": "stream",
     "text": [
      "Collecting Counter\n",
      "  Downloading Counter-1.0.0.tar.gz (5.2 kB)\n",
      "  Preparing metadata (setup.py): started\n",
      "  Preparing metadata (setup.py): finished with status 'done'\n",
      "Using legacy 'setup.py install' for Counter, since package 'wheel' is not installed.\n",
      "Installing collected packages: Counter\n",
      "  Running setup.py install for Counter: started\n",
      "  Running setup.py install for Counter: finished with status 'done'\n",
      "Successfully installed Counter-1.0.0\n",
      "Note: you may need to restart the kernel to use updated packages.\n"
     ]
    },
    {
     "name": "stderr",
     "output_type": "stream",
     "text": [
      "\n",
      "[notice] A new release of pip available: 22.2.2 -> 22.3.1\n",
      "[notice] To update, run: C:\\Users\\ACER\\AppData\\Local\\Microsoft\\WindowsApps\\PythonSoftwareFoundation.Python.3.10_qbz5n2kfra8p0\\python.exe -m pip install --upgrade pip\n"
     ]
    }
   ],
   "source": [
    "%pip install spacy\n",
    "%pip install Counter"
   ]
  },
  {
   "cell_type": "markdown",
   "metadata": {},
   "source": [
    "# importing libraries"
   ]
  },
  {
   "cell_type": "code",
   "execution_count": 33,
   "metadata": {},
   "outputs": [
    {
     "name": "stderr",
     "output_type": "stream",
     "text": [
      "[nltk_data] Downloading package stopwords to\n",
      "[nltk_data]     C:\\Users\\ACER\\AppData\\Roaming\\nltk_data...\n",
      "[nltk_data]   Package stopwords is already up-to-date!\n",
      "[nltk_data] Downloading package wordnet to\n",
      "[nltk_data]     C:\\Users\\ACER\\AppData\\Roaming\\nltk_data...\n",
      "[nltk_data]   Package wordnet is already up-to-date!\n",
      "[nltk_data] Downloading package omw-1.4 to\n",
      "[nltk_data]     C:\\Users\\ACER\\AppData\\Roaming\\nltk_data...\n",
      "[nltk_data]   Package omw-1.4 is already up-to-date!\n",
      "[nltk_data] Downloading package punkt to\n",
      "[nltk_data]     C:\\Users\\ACER\\AppData\\Roaming\\nltk_data...\n",
      "[nltk_data]   Package punkt is already up-to-date!\n"
     ]
    },
    {
     "data": {
      "text/plain": [
       "True"
      ]
     },
     "execution_count": 33,
     "metadata": {},
     "output_type": "execute_result"
    }
   ],
   "source": [
    "import pandas as pd\n",
    "import string\n",
    "import re\n",
    "import numpy as np\n",
    "import pandas as pd\n",
    "import matplotlib.pyplot as plt\n",
    "import seaborn as sns\n",
    "import re\n",
    "import string\n",
    "import nltk \n",
    "from nltk.stem import PorterStemmer\n",
    "from nltk.tokenize import word_tokenize\n",
    "from sklearn.feature_extraction.text import CountVectorizer\n",
    "from sklearn.feature_extraction.text import TfidfVectorizer\n",
    "from nltk.tokenize.treebank import TreebankWordDetokenizer\n",
    "from sklearn.feature_extraction.text import TfidfTransformer\n",
    "from sklearn.metrics.pairwise import cosine_similarity\n",
    "from sklearn.pipeline import Pipeline\n",
    "import spacy\n",
    "from collections import Counter\n",
    "# nlp = spacy.load('en_core_web_sm')\n",
    "nltk.download('stopwords')\n",
    "nltk.download('wordnet')\n",
    "nltk.download('omw-1.4')\n",
    "nltk.download('punkt')"
   ]
  },
  {
   "cell_type": "code",
   "execution_count": 93,
   "metadata": {},
   "outputs": [],
   "source": [
    "from numpy import asarray\n",
    "from sklearn.preprocessing import MinMaxScaler\n",
    "from sklearn.metrics import mean_absolute_error as mae"
   ]
  },
  {
   "cell_type": "markdown",
   "metadata": {},
   "source": [
    "# import dataset"
   ]
  },
  {
   "cell_type": "code",
   "execution_count": 34,
   "metadata": {},
   "outputs": [
    {
     "data": {
      "text/html": [
       "<div>\n",
       "<style scoped>\n",
       "    .dataframe tbody tr th:only-of-type {\n",
       "        vertical-align: middle;\n",
       "    }\n",
       "\n",
       "    .dataframe tbody tr th {\n",
       "        vertical-align: top;\n",
       "    }\n",
       "\n",
       "    .dataframe thead th {\n",
       "        text-align: right;\n",
       "    }\n",
       "</style>\n",
       "<table border=\"1\" class=\"dataframe\">\n",
       "  <thead>\n",
       "    <tr style=\"text-align: right;\">\n",
       "      <th></th>\n",
       "      <th>pair_ID</th>\n",
       "      <th>sentence_A</th>\n",
       "      <th>sentence_B</th>\n",
       "      <th>relatedness_score</th>\n",
       "      <th>entailment_judgment</th>\n",
       "    </tr>\n",
       "  </thead>\n",
       "  <tbody>\n",
       "    <tr>\n",
       "      <th>0</th>\n",
       "      <td>1</td>\n",
       "      <td>A group of kids is playing in a yard and an ol...</td>\n",
       "      <td>A group of boys in a yard is playing and a man...</td>\n",
       "      <td>4.5</td>\n",
       "      <td>NEUTRAL</td>\n",
       "    </tr>\n",
       "    <tr>\n",
       "      <th>1</th>\n",
       "      <td>2</td>\n",
       "      <td>A group of children is playing in the house an...</td>\n",
       "      <td>A group of kids is playing in a yard and an ol...</td>\n",
       "      <td>3.2</td>\n",
       "      <td>NEUTRAL</td>\n",
       "    </tr>\n",
       "    <tr>\n",
       "      <th>2</th>\n",
       "      <td>3</td>\n",
       "      <td>The young boys are playing outdoors and the ma...</td>\n",
       "      <td>The kids are playing outdoors near a man with ...</td>\n",
       "      <td>4.7</td>\n",
       "      <td>ENTAILMENT</td>\n",
       "    </tr>\n",
       "    <tr>\n",
       "      <th>3</th>\n",
       "      <td>5</td>\n",
       "      <td>The kids are playing outdoors near a man with ...</td>\n",
       "      <td>A group of kids is playing in a yard and an ol...</td>\n",
       "      <td>3.4</td>\n",
       "      <td>NEUTRAL</td>\n",
       "    </tr>\n",
       "    <tr>\n",
       "      <th>4</th>\n",
       "      <td>9</td>\n",
       "      <td>The young boys are playing outdoors and the ma...</td>\n",
       "      <td>A group of kids is playing in a yard and an ol...</td>\n",
       "      <td>3.7</td>\n",
       "      <td>NEUTRAL</td>\n",
       "    </tr>\n",
       "    <tr>\n",
       "      <th>...</th>\n",
       "      <td>...</td>\n",
       "      <td>...</td>\n",
       "      <td>...</td>\n",
       "      <td>...</td>\n",
       "      <td>...</td>\n",
       "    </tr>\n",
       "    <tr>\n",
       "      <th>95</th>\n",
       "      <td>241</td>\n",
       "      <td>A woman is wearing an Egyptian headdress</td>\n",
       "      <td>A woman is wearing an Indian headdress</td>\n",
       "      <td>4.0</td>\n",
       "      <td>NEUTRAL</td>\n",
       "    </tr>\n",
       "    <tr>\n",
       "      <th>96</th>\n",
       "      <td>248</td>\n",
       "      <td>The black woman is wearing glasses over the he...</td>\n",
       "      <td>A woman is wearing an Egyptian headdress</td>\n",
       "      <td>3.6</td>\n",
       "      <td>NEUTRAL</td>\n",
       "    </tr>\n",
       "    <tr>\n",
       "      <th>97</th>\n",
       "      <td>249</td>\n",
       "      <td>A woman is wearing an Egyptian hat on her head</td>\n",
       "      <td>The woman is wearing glasses and a black headd...</td>\n",
       "      <td>2.5</td>\n",
       "      <td>NEUTRAL</td>\n",
       "    </tr>\n",
       "    <tr>\n",
       "      <th>98</th>\n",
       "      <td>254</td>\n",
       "      <td>A hiker is on top of the mountain and is dancing</td>\n",
       "      <td>There is no hiker dancing on top of the mountain</td>\n",
       "      <td>3.2</td>\n",
       "      <td>CONTRADICTION</td>\n",
       "    </tr>\n",
       "    <tr>\n",
       "      <th>99</th>\n",
       "      <td>256</td>\n",
       "      <td>There is no man on a rock high above some tree...</td>\n",
       "      <td>A man is on a rock high above some trees and i...</td>\n",
       "      <td>4.3</td>\n",
       "      <td>CONTRADICTION</td>\n",
       "    </tr>\n",
       "  </tbody>\n",
       "</table>\n",
       "<p>100 rows × 5 columns</p>\n",
       "</div>"
      ],
      "text/plain": [
       "    pair_ID                                         sentence_A  \\\n",
       "0         1  A group of kids is playing in a yard and an ol...   \n",
       "1         2  A group of children is playing in the house an...   \n",
       "2         3  The young boys are playing outdoors and the ma...   \n",
       "3         5  The kids are playing outdoors near a man with ...   \n",
       "4         9  The young boys are playing outdoors and the ma...   \n",
       "..      ...                                                ...   \n",
       "95      241           A woman is wearing an Egyptian headdress   \n",
       "96      248  The black woman is wearing glasses over the he...   \n",
       "97      249     A woman is wearing an Egyptian hat on her head   \n",
       "98      254   A hiker is on top of the mountain and is dancing   \n",
       "99      256  There is no man on a rock high above some tree...   \n",
       "\n",
       "                                           sentence_B  relatedness_score  \\\n",
       "0   A group of boys in a yard is playing and a man...                4.5   \n",
       "1   A group of kids is playing in a yard and an ol...                3.2   \n",
       "2   The kids are playing outdoors near a man with ...                4.7   \n",
       "3   A group of kids is playing in a yard and an ol...                3.4   \n",
       "4   A group of kids is playing in a yard and an ol...                3.7   \n",
       "..                                                ...                ...   \n",
       "95             A woman is wearing an Indian headdress                4.0   \n",
       "96           A woman is wearing an Egyptian headdress                3.6   \n",
       "97  The woman is wearing glasses and a black headd...                2.5   \n",
       "98   There is no hiker dancing on top of the mountain                3.2   \n",
       "99  A man is on a rock high above some trees and i...                4.3   \n",
       "\n",
       "   entailment_judgment  \n",
       "0              NEUTRAL  \n",
       "1              NEUTRAL  \n",
       "2           ENTAILMENT  \n",
       "3              NEUTRAL  \n",
       "4              NEUTRAL  \n",
       "..                 ...  \n",
       "95             NEUTRAL  \n",
       "96             NEUTRAL  \n",
       "97             NEUTRAL  \n",
       "98       CONTRADICTION  \n",
       "99       CONTRADICTION  \n",
       "\n",
       "[100 rows x 5 columns]"
      ]
     },
     "execution_count": 34,
     "metadata": {},
     "output_type": "execute_result"
    }
   ],
   "source": [
    "# read text file into pandas DataFrame\n",
    "df = pd.read_csv(\"SICK_train.txt\", sep=\"\\t\")\n",
    "  \n",
    "# display DataFrame\n",
    "data = df.head(100)\n",
    "data"
   ]
  },
  {
   "cell_type": "code",
   "execution_count": 35,
   "metadata": {},
   "outputs": [
    {
     "data": {
      "text/plain": [
       "(100, 5)"
      ]
     },
     "execution_count": 35,
     "metadata": {},
     "output_type": "execute_result"
    }
   ],
   "source": [
    "copydata=data.copy()\n",
    "copydata.shape"
   ]
  },
  {
   "cell_type": "code",
   "execution_count": 36,
   "metadata": {},
   "outputs": [
    {
     "data": {
      "text/plain": [
       "pair_ID                0.0\n",
       "sentence_A             0.0\n",
       "sentence_B             0.0\n",
       "relatedness_score      0.0\n",
       "entailment_judgment    0.0\n",
       "dtype: float64"
      ]
     },
     "execution_count": 36,
     "metadata": {},
     "output_type": "execute_result"
    }
   ],
   "source": [
    "#check duplicate\n",
    "copydata[copydata.duplicated()].sum()"
   ]
  },
  {
   "cell_type": "code",
   "execution_count": 37,
   "metadata": {},
   "outputs": [
    {
     "data": {
      "text/html": [
       "<div>\n",
       "<style scoped>\n",
       "    .dataframe tbody tr th:only-of-type {\n",
       "        vertical-align: middle;\n",
       "    }\n",
       "\n",
       "    .dataframe tbody tr th {\n",
       "        vertical-align: top;\n",
       "    }\n",
       "\n",
       "    .dataframe thead th {\n",
       "        text-align: right;\n",
       "    }\n",
       "</style>\n",
       "<table border=\"1\" class=\"dataframe\">\n",
       "  <thead>\n",
       "    <tr style=\"text-align: right;\">\n",
       "      <th></th>\n",
       "      <th>pair_ID</th>\n",
       "      <th>sentence_A</th>\n",
       "      <th>sentence_B</th>\n",
       "      <th>relatedness_score</th>\n",
       "      <th>entailment_judgment</th>\n",
       "    </tr>\n",
       "  </thead>\n",
       "  <tbody>\n",
       "    <tr>\n",
       "      <th>0</th>\n",
       "      <td>1</td>\n",
       "      <td>A group of kids is playing in a yard and an ol...</td>\n",
       "      <td>A group of boys in a yard is playing and a man...</td>\n",
       "      <td>4.5</td>\n",
       "      <td>NEUTRAL</td>\n",
       "    </tr>\n",
       "    <tr>\n",
       "      <th>1</th>\n",
       "      <td>2</td>\n",
       "      <td>A group of children is playing in the house an...</td>\n",
       "      <td>A group of kids is playing in a yard and an ol...</td>\n",
       "      <td>3.2</td>\n",
       "      <td>NEUTRAL</td>\n",
       "    </tr>\n",
       "    <tr>\n",
       "      <th>2</th>\n",
       "      <td>3</td>\n",
       "      <td>The young boys are playing outdoors and the ma...</td>\n",
       "      <td>The kids are playing outdoors near a man with ...</td>\n",
       "      <td>4.7</td>\n",
       "      <td>ENTAILMENT</td>\n",
       "    </tr>\n",
       "    <tr>\n",
       "      <th>3</th>\n",
       "      <td>5</td>\n",
       "      <td>The kids are playing outdoors near a man with ...</td>\n",
       "      <td>A group of kids is playing in a yard and an ol...</td>\n",
       "      <td>3.4</td>\n",
       "      <td>NEUTRAL</td>\n",
       "    </tr>\n",
       "    <tr>\n",
       "      <th>4</th>\n",
       "      <td>9</td>\n",
       "      <td>The young boys are playing outdoors and the ma...</td>\n",
       "      <td>A group of kids is playing in a yard and an ol...</td>\n",
       "      <td>3.7</td>\n",
       "      <td>NEUTRAL</td>\n",
       "    </tr>\n",
       "    <tr>\n",
       "      <th>...</th>\n",
       "      <td>...</td>\n",
       "      <td>...</td>\n",
       "      <td>...</td>\n",
       "      <td>...</td>\n",
       "      <td>...</td>\n",
       "    </tr>\n",
       "    <tr>\n",
       "      <th>95</th>\n",
       "      <td>241</td>\n",
       "      <td>A woman is wearing an Egyptian headdress</td>\n",
       "      <td>A woman is wearing an Indian headdress</td>\n",
       "      <td>4.0</td>\n",
       "      <td>NEUTRAL</td>\n",
       "    </tr>\n",
       "    <tr>\n",
       "      <th>96</th>\n",
       "      <td>248</td>\n",
       "      <td>The black woman is wearing glasses over the he...</td>\n",
       "      <td>A woman is wearing an Egyptian headdress</td>\n",
       "      <td>3.6</td>\n",
       "      <td>NEUTRAL</td>\n",
       "    </tr>\n",
       "    <tr>\n",
       "      <th>97</th>\n",
       "      <td>249</td>\n",
       "      <td>A woman is wearing an Egyptian hat on her head</td>\n",
       "      <td>The woman is wearing glasses and a black headd...</td>\n",
       "      <td>2.5</td>\n",
       "      <td>NEUTRAL</td>\n",
       "    </tr>\n",
       "    <tr>\n",
       "      <th>98</th>\n",
       "      <td>254</td>\n",
       "      <td>A hiker is on top of the mountain and is dancing</td>\n",
       "      <td>There is no hiker dancing on top of the mountain</td>\n",
       "      <td>3.2</td>\n",
       "      <td>CONTRADICTION</td>\n",
       "    </tr>\n",
       "    <tr>\n",
       "      <th>99</th>\n",
       "      <td>256</td>\n",
       "      <td>There is no man on a rock high above some tree...</td>\n",
       "      <td>A man is on a rock high above some trees and i...</td>\n",
       "      <td>4.3</td>\n",
       "      <td>CONTRADICTION</td>\n",
       "    </tr>\n",
       "  </tbody>\n",
       "</table>\n",
       "<p>100 rows × 5 columns</p>\n",
       "</div>"
      ],
      "text/plain": [
       "    pair_ID                                         sentence_A  \\\n",
       "0         1  A group of kids is playing in a yard and an ol...   \n",
       "1         2  A group of children is playing in the house an...   \n",
       "2         3  The young boys are playing outdoors and the ma...   \n",
       "3         5  The kids are playing outdoors near a man with ...   \n",
       "4         9  The young boys are playing outdoors and the ma...   \n",
       "..      ...                                                ...   \n",
       "95      241           A woman is wearing an Egyptian headdress   \n",
       "96      248  The black woman is wearing glasses over the he...   \n",
       "97      249     A woman is wearing an Egyptian hat on her head   \n",
       "98      254   A hiker is on top of the mountain and is dancing   \n",
       "99      256  There is no man on a rock high above some tree...   \n",
       "\n",
       "                                           sentence_B  relatedness_score  \\\n",
       "0   A group of boys in a yard is playing and a man...                4.5   \n",
       "1   A group of kids is playing in a yard and an ol...                3.2   \n",
       "2   The kids are playing outdoors near a man with ...                4.7   \n",
       "3   A group of kids is playing in a yard and an ol...                3.4   \n",
       "4   A group of kids is playing in a yard and an ol...                3.7   \n",
       "..                                                ...                ...   \n",
       "95             A woman is wearing an Indian headdress                4.0   \n",
       "96           A woman is wearing an Egyptian headdress                3.6   \n",
       "97  The woman is wearing glasses and a black headd...                2.5   \n",
       "98   There is no hiker dancing on top of the mountain                3.2   \n",
       "99  A man is on a rock high above some trees and i...                4.3   \n",
       "\n",
       "   entailment_judgment  \n",
       "0              NEUTRAL  \n",
       "1              NEUTRAL  \n",
       "2           ENTAILMENT  \n",
       "3              NEUTRAL  \n",
       "4              NEUTRAL  \n",
       "..                 ...  \n",
       "95             NEUTRAL  \n",
       "96             NEUTRAL  \n",
       "97             NEUTRAL  \n",
       "98       CONTRADICTION  \n",
       "99       CONTRADICTION  \n",
       "\n",
       "[100 rows x 5 columns]"
      ]
     },
     "execution_count": 37,
     "metadata": {},
     "output_type": "execute_result"
    }
   ],
   "source": [
    "copydata"
   ]
  },
  {
   "cell_type": "markdown",
   "metadata": {},
   "source": [
    "# modelling"
   ]
  },
  {
   "cell_type": "code",
   "execution_count": 38,
   "metadata": {},
   "outputs": [],
   "source": [
    "def remove_punc(copydata):\n",
    "  pattern = r'[' + string.punctuation + ']'\n",
    "  copydata['sentence_A']=data['sentence_A'].map(lambda m:re.sub(pattern,\" \",m))\n",
    "  copydata['sentence_B']=data['sentence_B'].map(lambda m:re.sub(pattern,\" \",m))\n",
    "  return copydata\n",
    "\n",
    "\n",
    "def lower(copydata):\n",
    "  copydata['sentence_A']=copydata['sentence_A'].map(lambda m:m.lower())\n",
    "  copydata['sentence_B']=copydata['sentence_B'].map(lambda m:m.lower())\n",
    "  return copydata\n",
    "\n",
    "\n",
    "def tokenization(text):\n",
    "    tokens = re.split(' ',text)\n",
    "    return tokens\n",
    "\n",
    "def token(copydata):\n",
    "  copydata['sentence_A']= copydata['sentence_A'].apply(lambda x: tokenization(x))\n",
    "  copydata['sentence_B']= copydata['sentence_B'].apply(lambda x: tokenization(x))\n",
    "  return copydata\n",
    "\n",
    "\n",
    "sw=nltk.corpus.stopwords.words('english')\n",
    "\n",
    "def remove_SW(copydata):\n",
    "   copydata['sentence_A']=copydata['sentence_A'].apply(lambda x: [item for item in x if item not in sw])\n",
    "   copydata['sentence_B']=copydata['sentence_B'].apply(lambda x: [item for item in x if item not in sw])\n",
    "   return copydata\n",
    "\n",
    "\n",
    "def remove_digits(copydata):\n",
    "  copydata['sentence_A']=copydata['sentence_A'].apply(lambda x: [item for item in x if not item.isdigit()])\n",
    "  copydata['sentence_B']=copydata['sentence_B'].apply(lambda x: [item for item in x if not item.isdigit()])\n",
    "  return copydata\n",
    "\n",
    "\n",
    "ps = PorterStemmer()\n",
    "\n",
    "def stemming(copydata):\n",
    "  copydata['sentence_A']=copydata['sentence_A'].apply(lambda x: [ps.stem(item) for item in x])\n",
    "  copydata['sentence_B']=copydata['sentence_B'].apply(lambda x: [ps.stem(item) for item in x])\n",
    "  return copydata\n",
    "\n",
    "\n",
    "def remove_empty_tokens(copydata):\n",
    "  copydata['sentence_A']=copydata['sentence_A'].apply(lambda x: [item for item in x if item !=''])\n",
    "  copydata['sentence_B']=copydata['sentence_B'].apply(lambda x: [item for item in x if item !=''])\n",
    "  return copydata\n",
    "\n",
    "\n",
    "def remove_single_letters(copydata):\n",
    "  copydata['sentence_A']=copydata['sentence_A'].apply(lambda x: [item for item in x if len(item) > 1])\n",
    "  copydata['sentence_B']=copydata['sentence_B'].apply(lambda x: [item for item in x if len(item) > 1])\n",
    "  return copydata\n",
    "\n",
    "\n",
    "def detoken(copydata):\n",
    "  copydata['sentence_A']= copydata['sentence_A'].apply(lambda x: TreebankWordDetokenizer().detokenize(x))\n",
    "  copydata['sentence_B']= copydata['sentence_B'].apply(lambda x: TreebankWordDetokenizer().detokenize(x))\n",
    "  return copydata\n",
    "\n",
    "def replace_spaces(x,space,second):\n",
    "  result = x.replace(space, second)\n",
    "  return result\n",
    "def remove_space(copydata):\n",
    "  copydata['sentence_A']= copydata['sentence_A'].apply(lambda x: replace_spaces(x,'  ',' '))\n",
    "  copydata['sentence_B']= copydata['sentence_B'].apply(lambda x: replace_spaces(x,'  ',' '))\n",
    "  return copydata\n",
    "def count_vcr():\n",
    "  for i in range(len(copydata)):\n",
    "    doc1=copydata['sentence_A'][i]\n",
    "    doc2=copydata['sentence_B'][i]\n",
    "    docs=(doc1,doc2)\n",
    "    matrix = CountVectorizer().fit_transform(docs)\n",
    "    cosine_sim = cosine_similarity(matrix[0], matrix[1])\n",
    "    similarity.append(cosine_sim)\n",
    "  return similarity\n",
    "\n",
    "def similarity_fn():\n",
    "  for i in range(len(copydata)):\n",
    "    doc1=copydata['sentence_A'][i]\n",
    "    doc2=copydata['sentence_B'][i]\n",
    "    docs=(doc1,doc2)\n",
    "    tfidf_matrix = tfidf_vectorizer.fit_transform(docs)\n",
    "    cosine_sim = cosine_similarity(tfidf_matrix[0], tfidf_matrix[1])\n",
    "    similarity.append(cosine_sim)\n",
    "  return similarity"
   ]
  },
  {
   "cell_type": "code",
   "execution_count": 39,
   "metadata": {},
   "outputs": [],
   "source": [
    "copydata=copydata.pipe(remove_punc).pipe(token).pipe(remove_SW).pipe(remove_digits).pipe(stemming).pipe(remove_empty_tokens).pipe(remove_single_letters)"
   ]
  },
  {
   "cell_type": "code",
   "execution_count": 40,
   "metadata": {},
   "outputs": [
    {
     "name": "stdout",
     "output_type": "stream",
     "text": [
      "['group', 'kid', 'play', 'yard', 'old', 'man', 'stand', 'background']\n",
      "['group', 'boy', 'yard', 'play', 'man', 'stand', 'background']\n"
     ]
    }
   ],
   "source": [
    "print(copydata['sentence_A'][0])\n",
    "print(copydata['sentence_B'][0])"
   ]
  },
  {
   "cell_type": "code",
   "execution_count": 41,
   "metadata": {},
   "outputs": [
    {
     "data": {
      "text/html": [
       "<div>\n",
       "<style scoped>\n",
       "    .dataframe tbody tr th:only-of-type {\n",
       "        vertical-align: middle;\n",
       "    }\n",
       "\n",
       "    .dataframe tbody tr th {\n",
       "        vertical-align: top;\n",
       "    }\n",
       "\n",
       "    .dataframe thead th {\n",
       "        text-align: right;\n",
       "    }\n",
       "</style>\n",
       "<table border=\"1\" class=\"dataframe\">\n",
       "  <thead>\n",
       "    <tr style=\"text-align: right;\">\n",
       "      <th></th>\n",
       "      <th>pair_ID</th>\n",
       "      <th>sentence_A</th>\n",
       "      <th>sentence_B</th>\n",
       "      <th>relatedness_score</th>\n",
       "      <th>entailment_judgment</th>\n",
       "      <th>Similarity</th>\n",
       "    </tr>\n",
       "  </thead>\n",
       "  <tbody>\n",
       "    <tr>\n",
       "      <th>0</th>\n",
       "      <td>1</td>\n",
       "      <td>group kid play yard old man stand background</td>\n",
       "      <td>group boy yard play man stand background</td>\n",
       "      <td>4.5</td>\n",
       "      <td>NEUTRAL</td>\n",
       "      <td>[[0.801783725737273]]</td>\n",
       "    </tr>\n",
       "    <tr>\n",
       "      <th>1</th>\n",
       "      <td>2</td>\n",
       "      <td>group children play hous man stand background</td>\n",
       "      <td>group kid play yard old man stand background</td>\n",
       "      <td>3.2</td>\n",
       "      <td>NEUTRAL</td>\n",
       "      <td>[[0.6681531047810608]]</td>\n",
       "    </tr>\n",
       "    <tr>\n",
       "      <th>2</th>\n",
       "      <td>3</td>\n",
       "      <td>the young boy play outdoor man smile nearbi</td>\n",
       "      <td>the kid play outdoor near man smile</td>\n",
       "      <td>4.7</td>\n",
       "      <td>ENTAILMENT</td>\n",
       "      <td>[[0.6681531047810608]]</td>\n",
       "    </tr>\n",
       "    <tr>\n",
       "      <th>3</th>\n",
       "      <td>5</td>\n",
       "      <td>the kid play outdoor near man smile</td>\n",
       "      <td>group kid play yard old man stand background</td>\n",
       "      <td>3.4</td>\n",
       "      <td>NEUTRAL</td>\n",
       "      <td>[[0.40089186286863654]]</td>\n",
       "    </tr>\n",
       "    <tr>\n",
       "      <th>4</th>\n",
       "      <td>9</td>\n",
       "      <td>the young boy play outdoor man smile nearbi</td>\n",
       "      <td>group kid play yard old man stand background</td>\n",
       "      <td>3.7</td>\n",
       "      <td>NEUTRAL</td>\n",
       "      <td>[[0.24999999999999994]]</td>\n",
       "    </tr>\n",
       "  </tbody>\n",
       "</table>\n",
       "</div>"
      ],
      "text/plain": [
       "   pair_ID                                     sentence_A  \\\n",
       "0        1   group kid play yard old man stand background   \n",
       "1        2  group children play hous man stand background   \n",
       "2        3    the young boy play outdoor man smile nearbi   \n",
       "3        5            the kid play outdoor near man smile   \n",
       "4        9    the young boy play outdoor man smile nearbi   \n",
       "\n",
       "                                     sentence_B  relatedness_score  \\\n",
       "0      group boy yard play man stand background                4.5   \n",
       "1  group kid play yard old man stand background                3.2   \n",
       "2           the kid play outdoor near man smile                4.7   \n",
       "3  group kid play yard old man stand background                3.4   \n",
       "4  group kid play yard old man stand background                3.7   \n",
       "\n",
       "  entailment_judgment               Similarity  \n",
       "0             NEUTRAL    [[0.801783725737273]]  \n",
       "1             NEUTRAL   [[0.6681531047810608]]  \n",
       "2          ENTAILMENT   [[0.6681531047810608]]  \n",
       "3             NEUTRAL  [[0.40089186286863654]]  \n",
       "4             NEUTRAL  [[0.24999999999999994]]  "
      ]
     },
     "execution_count": 41,
     "metadata": {},
     "output_type": "execute_result"
    }
   ],
   "source": [
    "bow_converter = CountVectorizer()\n",
    "copydata.pipe(detoken).pipe(remove_space)\n",
    "similarity=[]\n",
    "similarity=count_vcr()\n",
    "data_cvr=copydata.copy()\n",
    "data_cvr['Similarity']=similarity\n",
    "data_cvr[:5]"
   ]
  },
  {
   "cell_type": "code",
   "execution_count": 42,
   "metadata": {},
   "outputs": [],
   "source": [
    "tfidf_vectorizer = TfidfVectorizer()\n",
    "similarity=[]\n",
    "similarity=similarity_fn()\n",
    "data_tf=copydata.copy()\n",
    "data_tf['Similarity']=similarity"
   ]
  },
  {
   "cell_type": "code",
   "execution_count": 47,
   "metadata": {},
   "outputs": [
    {
     "data": {
      "text/html": [
       "<div>\n",
       "<style scoped>\n",
       "    .dataframe tbody tr th:only-of-type {\n",
       "        vertical-align: middle;\n",
       "    }\n",
       "\n",
       "    .dataframe tbody tr th {\n",
       "        vertical-align: top;\n",
       "    }\n",
       "\n",
       "    .dataframe thead th {\n",
       "        text-align: right;\n",
       "    }\n",
       "</style>\n",
       "<table border=\"1\" class=\"dataframe\">\n",
       "  <thead>\n",
       "    <tr style=\"text-align: right;\">\n",
       "      <th></th>\n",
       "      <th>pair_ID</th>\n",
       "      <th>sentence_A</th>\n",
       "      <th>sentence_B</th>\n",
       "      <th>relatedness_score</th>\n",
       "      <th>entailment_judgment</th>\n",
       "      <th>Similarity</th>\n",
       "    </tr>\n",
       "  </thead>\n",
       "  <tbody>\n",
       "    <tr>\n",
       "      <th>0</th>\n",
       "      <td>1</td>\n",
       "      <td>group kid play yard old man stand background</td>\n",
       "      <td>group boy yard play man stand background</td>\n",
       "      <td>4.5</td>\n",
       "      <td>NEUTRAL</td>\n",
       "      <td>[[0.6735205045780812]]</td>\n",
       "    </tr>\n",
       "    <tr>\n",
       "      <th>1</th>\n",
       "      <td>2</td>\n",
       "      <td>group children play hous man stand background</td>\n",
       "      <td>group kid play yard old man stand background</td>\n",
       "      <td>3.2</td>\n",
       "      <td>NEUTRAL</td>\n",
       "      <td>[[0.5056055588739692]]</td>\n",
       "    </tr>\n",
       "    <tr>\n",
       "      <th>2</th>\n",
       "      <td>3</td>\n",
       "      <td>the young boy play outdoor man smile nearbi</td>\n",
       "      <td>the kid play outdoor near man smile</td>\n",
       "      <td>4.7</td>\n",
       "      <td>ENTAILMENT</td>\n",
       "      <td>[[0.5056055588739691]]</td>\n",
       "    </tr>\n",
       "    <tr>\n",
       "      <th>3</th>\n",
       "      <td>5</td>\n",
       "      <td>the kid play outdoor near man smile</td>\n",
       "      <td>group kid play yard old man stand background</td>\n",
       "      <td>3.4</td>\n",
       "      <td>NEUTRAL</td>\n",
       "      <td>[[0.2532094495161745]]</td>\n",
       "    </tr>\n",
       "    <tr>\n",
       "      <th>4</th>\n",
       "      <td>9</td>\n",
       "      <td>the young boy play outdoor man smile nearbi</td>\n",
       "      <td>group kid play yard old man stand background</td>\n",
       "      <td>3.7</td>\n",
       "      <td>NEUTRAL</td>\n",
       "      <td>[[0.14438355527738672]]</td>\n",
       "    </tr>\n",
       "    <tr>\n",
       "      <th>...</th>\n",
       "      <td>...</td>\n",
       "      <td>...</td>\n",
       "      <td>...</td>\n",
       "      <td>...</td>\n",
       "      <td>...</td>\n",
       "      <td>...</td>\n",
       "    </tr>\n",
       "    <tr>\n",
       "      <th>95</th>\n",
       "      <td>241</td>\n",
       "      <td>woman wear egyptian headdress</td>\n",
       "      <td>woman wear indian headdress</td>\n",
       "      <td>4.0</td>\n",
       "      <td>NEUTRAL</td>\n",
       "      <td>[[0.6029748160380572]]</td>\n",
       "    </tr>\n",
       "    <tr>\n",
       "      <th>96</th>\n",
       "      <td>248</td>\n",
       "      <td>the black woman wear glass headdress</td>\n",
       "      <td>woman wear egyptian headdress</td>\n",
       "      <td>3.6</td>\n",
       "      <td>NEUTRAL</td>\n",
       "      <td>[[0.4501755023269898]]</td>\n",
       "    </tr>\n",
       "    <tr>\n",
       "      <th>97</th>\n",
       "      <td>249</td>\n",
       "      <td>woman wear egyptian hat head</td>\n",
       "      <td>the woman wear glass black headdress</td>\n",
       "      <td>2.5</td>\n",
       "      <td>NEUTRAL</td>\n",
       "      <td>[[0.22576484600261607]]</td>\n",
       "    </tr>\n",
       "    <tr>\n",
       "      <th>98</th>\n",
       "      <td>254</td>\n",
       "      <td>hiker top mountain danc</td>\n",
       "      <td>there hiker danc top mountain</td>\n",
       "      <td>3.2</td>\n",
       "      <td>CONTRADICTION</td>\n",
       "      <td>[[0.8181802073667197]]</td>\n",
       "    </tr>\n",
       "    <tr>\n",
       "      <th>99</th>\n",
       "      <td>256</td>\n",
       "      <td>there man rock high tree stand strang posit</td>\n",
       "      <td>man rock high tree stand strang posit</td>\n",
       "      <td>4.3</td>\n",
       "      <td>CONTRADICTION</td>\n",
       "      <td>[[0.8831282039194523]]</td>\n",
       "    </tr>\n",
       "  </tbody>\n",
       "</table>\n",
       "<p>100 rows × 6 columns</p>\n",
       "</div>"
      ],
      "text/plain": [
       "    pair_ID                                     sentence_A  \\\n",
       "0         1   group kid play yard old man stand background   \n",
       "1         2  group children play hous man stand background   \n",
       "2         3    the young boy play outdoor man smile nearbi   \n",
       "3         5            the kid play outdoor near man smile   \n",
       "4         9    the young boy play outdoor man smile nearbi   \n",
       "..      ...                                            ...   \n",
       "95      241                  woman wear egyptian headdress   \n",
       "96      248           the black woman wear glass headdress   \n",
       "97      249                   woman wear egyptian hat head   \n",
       "98      254                        hiker top mountain danc   \n",
       "99      256    there man rock high tree stand strang posit   \n",
       "\n",
       "                                      sentence_B  relatedness_score  \\\n",
       "0       group boy yard play man stand background                4.5   \n",
       "1   group kid play yard old man stand background                3.2   \n",
       "2            the kid play outdoor near man smile                4.7   \n",
       "3   group kid play yard old man stand background                3.4   \n",
       "4   group kid play yard old man stand background                3.7   \n",
       "..                                           ...                ...   \n",
       "95                   woman wear indian headdress                4.0   \n",
       "96                 woman wear egyptian headdress                3.6   \n",
       "97          the woman wear glass black headdress                2.5   \n",
       "98                 there hiker danc top mountain                3.2   \n",
       "99         man rock high tree stand strang posit                4.3   \n",
       "\n",
       "   entailment_judgment               Similarity  \n",
       "0              NEUTRAL   [[0.6735205045780812]]  \n",
       "1              NEUTRAL   [[0.5056055588739692]]  \n",
       "2           ENTAILMENT   [[0.5056055588739691]]  \n",
       "3              NEUTRAL   [[0.2532094495161745]]  \n",
       "4              NEUTRAL  [[0.14438355527738672]]  \n",
       "..                 ...                      ...  \n",
       "95             NEUTRAL   [[0.6029748160380572]]  \n",
       "96             NEUTRAL   [[0.4501755023269898]]  \n",
       "97             NEUTRAL  [[0.22576484600261607]]  \n",
       "98       CONTRADICTION   [[0.8181802073667197]]  \n",
       "99       CONTRADICTION   [[0.8831282039194523]]  \n",
       "\n",
       "[100 rows x 6 columns]"
      ]
     },
     "execution_count": 47,
     "metadata": {},
     "output_type": "execute_result"
    }
   ],
   "source": [
    "data_tf"
   ]
  },
  {
   "cell_type": "code",
   "execution_count": 43,
   "metadata": {},
   "outputs": [],
   "source": [
    "all_data=data_cvr.copy()\n",
    "all_data['Count-Vec Similarity']=all_data['Similarity']\n",
    "all_data=all_data.drop('Similarity',axis=1)\n",
    "all_data['Tf-idf Similarity']=data_tf['Similarity']"
   ]
  },
  {
   "cell_type": "code",
   "execution_count": 76,
   "metadata": {},
   "outputs": [
    {
     "data": {
      "text/plain": [
       "sentence_A                  man jersey dunk ball basketbal game\n",
       "sentence_B              the ball dunk man jersey basketbal game\n",
       "relatedness_score                                           4.9\n",
       "entailment_judgment                                  ENTAILMENT\n",
       "Count-Vec Similarity                     [[0.9258200997725515]]\n",
       "Tf-idf Similarity                        [[0.8673636849609287]]\n",
       "Name: 11, dtype: object"
      ]
     },
     "execution_count": 76,
     "metadata": {},
     "output_type": "execute_result"
    }
   ],
   "source": [
    "all_data.iloc[11,1:7]\n"
   ]
  },
  {
   "cell_type": "code",
   "execution_count": 77,
   "metadata": {},
   "outputs": [
    {
     "data": {
      "text/plain": [
       "sentence_A             A man with a jersey is dunking the ball at a b...\n",
       "sentence_B             The ball is being dunked by a man with a jerse...\n",
       "relatedness_score                                                    4.9\n",
       "entailment_judgment                                           ENTAILMENT\n",
       "Name: 11, dtype: object"
      ]
     },
     "execution_count": 77,
     "metadata": {},
     "output_type": "execute_result"
    }
   ],
   "source": [
    "data.iloc[11,1:5]"
   ]
  },
  {
   "cell_type": "code",
   "execution_count": 90,
   "metadata": {},
   "outputs": [
    {
     "data": {
      "text/plain": [
       "<PandasArray>\n",
       "[\n",
       "[4.5],\n",
       "[3.2],\n",
       "[4.7],\n",
       "[3.4],\n",
       "[3.7],\n",
       "[4.0],\n",
       "[3.5],\n",
       "[3.2],\n",
       "[2.8],\n",
       "[3.7],\n",
       "[3.4],\n",
       "[4.9],\n",
       "[3.6],\n",
       "[3.8],\n",
       "[3.4],\n",
       "[4.9],\n",
       "[3.9],\n",
       "[3.415],\n",
       "[3.7],\n",
       "[4.4],\n",
       "[3.8],\n",
       "[3.5],\n",
       "[4.0],\n",
       "[2.9],\n",
       "[4.1],\n",
       "[2.5],\n",
       "[4.2],\n",
       "[4.4],\n",
       "[3.2],\n",
       "[3.635],\n",
       "[2.4],\n",
       "[2.6],\n",
       "[2.2],\n",
       "[3.0],\n",
       "[2.0],\n",
       "[5.0],\n",
       "[4.2],\n",
       "[3.0],\n",
       "[3.1],\n",
       "[1.7],\n",
       "[1.4],\n",
       "[1.5],\n",
       "[4.8],\n",
       "[3.8],\n",
       "[4.1],\n",
       "[4.3],\n",
       "[2.1],\n",
       "[3.0],\n",
       "[2.6],\n",
       "[3.2],\n",
       "[3.7],\n",
       "[2.6],\n",
       "[2.7],\n",
       "[2.3],\n",
       "[4.4],\n",
       "[2.6],\n",
       "[4.1],\n",
       "[3.4],\n",
       "[3.3],\n",
       "[3.8],\n",
       "[4.9],\n",
       "[3.7],\n",
       "[3.2],\n",
       "[3.1],\n",
       "[3.9],\n",
       "[3.4],\n",
       "[3.5],\n",
       "[3.6],\n",
       "[3.6],\n",
       "[3.9],\n",
       "[3.015],\n",
       "[2.7],\n",
       "[3.3],\n",
       "[2.9],\n",
       "[3.1],\n",
       "[3.2],\n",
       "[3.8],\n",
       "[3.7],\n",
       "[4.6],\n",
       "[3.7],\n",
       "[4.8],\n",
       "[3.3],\n",
       "[3.7],\n",
       "[2.7],\n",
       "[3.0],\n",
       "[4.0],\n",
       "[3.3],\n",
       "[3.5],\n",
       "[3.3],\n",
       "[3.9],\n",
       "[3.7],\n",
       "[1.9],\n",
       "[2.3],\n",
       "[1.6],\n",
       "[4.3],\n",
       "[4.0],\n",
       "[3.6],\n",
       "[2.5],\n",
       "[3.2],\n",
       "[4.3]\n",
       "]\n",
       "Shape: (100, 1), dtype: float64"
      ]
     },
     "execution_count": 90,
     "metadata": {},
     "output_type": "execute_result"
    }
   ],
   "source": [
    "norm = all_data['relatedness_score'].array.reshape(-1, 1)\n",
    "norm"
   ]
  },
  {
   "cell_type": "markdown",
   "metadata": {},
   "source": [
    "# normalization"
   ]
  },
  {
   "cell_type": "code",
   "execution_count": 92,
   "metadata": {},
   "outputs": [
    {
     "data": {
      "text/plain": [
       "array([0.97222222])"
      ]
     },
     "execution_count": 92,
     "metadata": {},
     "output_type": "execute_result"
    }
   ],
   "source": [
    "scaler = MinMaxScaler()\n",
    "scaled = scaler.fit_transform(norm)\n",
    "scaled[11]"
   ]
  },
  {
   "cell_type": "markdown",
   "metadata": {},
   "source": [
    "# evaluation"
   ]
  },
  {
   "cell_type": "code",
   "execution_count": 97,
   "metadata": {},
   "outputs": [
    {
     "data": {
      "text/plain": [
       "0.04640212244967079"
      ]
     },
     "execution_count": 97,
     "metadata": {},
     "output_type": "execute_result"
    }
   ],
   "source": [
    "error = mae(scaled[11], all_data.iloc[11,5])\n",
    "error"
   ]
  }
 ],
 "metadata": {
  "kernelspec": {
   "display_name": "Python 3.10.8 64-bit (microsoft store)",
   "language": "python",
   "name": "python3"
  },
  "language_info": {
   "codemirror_mode": {
    "name": "ipython",
    "version": 3
   },
   "file_extension": ".py",
   "mimetype": "text/x-python",
   "name": "python",
   "nbconvert_exporter": "python",
   "pygments_lexer": "ipython3",
   "version": "3.10.8"
  },
  "orig_nbformat": 4,
  "vscode": {
   "interpreter": {
    "hash": "9deea79bfd8769c20cdb41e577c31349975f53057f7c4a88718c49dab3f025eb"
   }
  }
 },
 "nbformat": 4,
 "nbformat_minor": 2
}
